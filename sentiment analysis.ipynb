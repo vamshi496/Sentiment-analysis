{
 "cells": [
  {
   "cell_type": "code",
   "execution_count": 1,
   "metadata": {},
   "outputs": [],
   "source": [
    "#import the necessary libraries.\n",
    "import numpy as np\n",
    "import pandas as pd\n",
    "import re"
   ]
  },
  {
   "cell_type": "code",
   "execution_count": 2,
   "metadata": {},
   "outputs": [],
   "source": [
    "#import the data.\n",
    "with open('train.txt') as file:\n",
    "    train_data=file.readlines()\n",
    "\n",
    "\n",
    "with open('val.txt') as file:\n",
    "    val_data=file.readlines()\n",
    "\n",
    "    \n",
    "with open('test.txt') as file:\n",
    "     test_data=file.readlines()\n",
    "\n"
   ]
  },
  {
   "cell_type": "code",
   "execution_count": 3,
   "metadata": {},
   "outputs": [],
   "source": [
    "#assigning  the data_preprocessin to data.\n",
    "def data_preprocessing(dataset):\n",
    "    text=[]\n",
    "    mood=[]\n",
    "    for i in range(len(dataset)):\n",
    "        a1=dataset[i].split(\";\")[0]\n",
    "        a2=dataset[i].split(\";\")[1]\n",
    "        a3=re.findall(\"^\\w+\",a2)[0]\n",
    "        text.append(a1)\n",
    "        mood.append(a3)\n",
    "    return  text ,mood\n"
   ]
  },
  {
   "cell_type": "code",
   "execution_count": 4,
   "metadata": {},
   "outputs": [
    {
     "name": "stdout",
     "output_type": "stream",
     "text": [
      "16000\n",
      "16000\n",
      "{'fear', 'joy', 'love', 'surprise', 'sadness', 'anger'}\n"
     ]
    }
   ],
   "source": [
    "#data_preprocessing  for train_data.\n",
    "train_text,train_mood=data_preprocessing(train_data)\n",
    "\n",
    "print(len(train_text))\n",
    "\n",
    "print(len(train_mood))\n",
    "\n",
    "print(set(train_mood))"
   ]
  },
  {
   "cell_type": "code",
   "execution_count": 5,
   "metadata": {},
   "outputs": [
    {
     "name": "stdout",
     "output_type": "stream",
     "text": [
      "2000\n",
      "2000\n",
      "{'fear', 'joy', 'love', 'surprise', 'sadness', 'anger'}\n"
     ]
    }
   ],
   "source": [
    " # data_preprocessing for val_data\n",
    "val_text,val_mood=data_preprocessing(val_data)\n",
    "\n",
    "print(len(val_text))\n",
    "\n",
    "print(len(val_mood))\n",
    "\n",
    "print(set(val_mood))\n",
    "\n",
    "#print(set(val_text))\n"
   ]
  },
  {
   "cell_type": "code",
   "execution_count": 6,
   "metadata": {},
   "outputs": [
    {
     "name": "stdout",
     "output_type": "stream",
     "text": [
      "2000\n",
      "2000\n",
      "{'fear', 'joy', 'love', 'surprise', 'sadness', 'anger'}\n"
     ]
    }
   ],
   "source": [
    "#data_preprocessing for test_data\n",
    "test_text,test_mood=data_preprocessing(test_data)\n",
    "\n",
    "print(len(test_text))\n",
    "print(len(test_mood))\n",
    "print(set(test_mood))"
   ]
  },
  {
   "cell_type": "code",
   "execution_count": 7,
   "metadata": {},
   "outputs": [],
   "source": [
    "#creating the labels.\n",
    "#sentiment #Joy, Sad,Happy, Anger, Frustration\n",
    "#1 = positive sentiment\n",
    "#0 = negative sentiemnt\n",
    "def label_create(moods):\n",
    "    labels=[]\n",
    "    for i in moods:\n",
    "        if i==\"Joy\"or i==\"love\" or i==\"surprise\" or i==\"Frustration\" or i=='Happy':\n",
    "            labels.append(1)\n",
    "        else:\n",
    "            labels.append(0)\n",
    "    return labels"
   ]
  },
  {
   "cell_type": "code",
   "execution_count": 8,
   "metadata": {},
   "outputs": [
    {
     "name": "stdout",
     "output_type": "stream",
     "text": [
      "16000\n",
      "2000\n",
      "2000\n"
     ]
    }
   ],
   "source": [
    "#train,val, test labels\n",
    "train_labels=label_create(train_mood)\n",
    "print(len(train_labels))\n",
    "\n",
    "val_labels=label_create(val_mood)\n",
    "print(len(val_labels))\n",
    "\n",
    "test_labels=label_create(test_mood)\n",
    "print(len(test_labels))"
   ]
  },
  {
   "cell_type": "code",
   "execution_count": 9,
   "metadata": {},
   "outputs": [],
   "source": [
    "#Range of train,val,test data\n",
    "train_id=[]\n",
    "val_id=[]\n",
    "test_id=[]\n",
    "for i in range(0,len(train_data)):\n",
    "    train_id.append(i)\n",
    "for j in range(len(train_data),len(train_data)+len(val_data)):\n",
    "    val_id.append(j)\n",
    "for k in range(len(train_data)+len(val_data),len(train_data)+len(val_data)+len(test_data)):\n",
    "    test_id.append(k)"
   ]
  },
  {
   "cell_type": "code",
   "execution_count": 10,
   "metadata": {},
   "outputs": [
    {
     "name": "stdout",
     "output_type": "stream",
     "text": [
      "16000\n",
      "2000\n",
      "2000\n"
     ]
    }
   ],
   "source": [
    "print(len(train_id))\n",
    "\n",
    "print(len(val_id))\n",
    "\n",
    "print(len(test_id))\n"
   ]
  },
  {
   "cell_type": "code",
   "execution_count": 11,
   "metadata": {},
   "outputs": [
    {
     "name": "stdout",
     "output_type": "stream",
     "text": [
      "(16000, 3)\n",
      "   ID                                               text     mood\n",
      "0   0                            i didnt feel humiliated  sadness\n",
      "1   1  i can go from feeling so hopeless to so damned...  sadness\n",
      "2   2   im grabbing a minute to post i feel greedy wrong    anger\n",
      "3   3  i am ever feeling nostalgic about the fireplac...     love\n",
      "4   4                               i am feeling grouchy    anger\n"
     ]
    }
   ],
   "source": [
    "#creating the train data and 'Id','text','mood' columns.\n",
    "train_data1=pd.DataFrame(list(zip(train_id,train_text,train_mood)),columns=[\"ID\",\"text\",\"mood\"])\n",
    "print(train_data1.shape)\n",
    "print(train_data1.head(5))\n"
   ]
  },
  {
   "cell_type": "code",
   "execution_count": 12,
   "metadata": {},
   "outputs": [
    {
     "name": "stdout",
     "output_type": "stream",
     "text": [
      "(2000, 3)\n",
      "      ID                                               text     mood\n",
      "0  16000  im feeling quite sad and sorry for myself but ...  sadness\n",
      "1  16001  i feel like i am still looking at a blank canv...  sadness\n",
      "2  16002                     i feel like a faithful servant     love\n",
      "3  16003                  i am just feeling cranky and blue    anger\n",
      "4  16004  i can have for a treat or if i am feeling festive      joy\n"
     ]
    }
   ],
   "source": [
    "#creating the val data and 'Id','text','mood' columns.\n",
    "\n",
    "val_data1=pd.DataFrame(list(zip(val_id,val_text,val_mood)),columns=[\"ID\",\"text\",\"mood\"])\n",
    "print(val_data1.shape)\n",
    "print(val_data1.head(5))\n"
   ]
  },
  {
   "cell_type": "code",
   "execution_count": 13,
   "metadata": {},
   "outputs": [
    {
     "name": "stdout",
     "output_type": "stream",
     "text": [
      "(2000, 3)\n",
      "      ID                                               text     mood\n",
      "0  18000  im feeling rather rotten so im not very ambiti...  sadness\n",
      "1  18001          im updating my blog because i feel shitty  sadness\n",
      "2  18002  i never make her separate from me because i do...  sadness\n",
      "3  18003  i left with my bouquet of red and yellow tulip...      joy\n",
      "4  18004    i was feeling a little vain when i did this one  sadness\n"
     ]
    }
   ],
   "source": [
    "#creating the test data and 'Id','text','mood' columns.\n",
    "\n",
    "test_data1=pd.DataFrame(list(zip(test_id,test_text,test_mood)),columns=[\"ID\",\"text\",\"mood\"])\n",
    "print(test_data1.shape)\n",
    "print(test_data1.head(5))"
   ]
  },
  {
   "cell_type": "code",
   "execution_count": 14,
   "metadata": {},
   "outputs": [],
   "source": [
    "#save the train_data to csv file\n",
    "train_data1.to_csv('Doubt buddy train_text.csv')"
   ]
  },
  {
   "cell_type": "code",
   "execution_count": 15,
   "metadata": {},
   "outputs": [],
   "source": [
    "#save the val_data to csv file\n",
    "val_data1.to_csv('Doubt buddy val_text.csv')"
   ]
  },
  {
   "cell_type": "code",
   "execution_count": 16,
   "metadata": {},
   "outputs": [],
   "source": [
    "#save the test_data to csv file\n",
    "\n",
    "test_data1.to_csv('Doubt buddy test_text.csv')"
   ]
  }
 ],
 "metadata": {
  "kernelspec": {
   "display_name": "Python 3",
   "language": "python",
   "name": "python3"
  },
  "language_info": {
   "codemirror_mode": {
    "name": "ipython",
    "version": 3
   },
   "file_extension": ".py",
   "mimetype": "text/x-python",
   "name": "python",
   "nbconvert_exporter": "python",
   "pygments_lexer": "ipython3",
   "version": "3.8.5"
  }
 },
 "nbformat": 4,
 "nbformat_minor": 4
}
